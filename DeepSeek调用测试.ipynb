{
 "cells": [
  {
   "cell_type": "code",
   "execution_count": 1,
   "metadata": {},
   "outputs": [
    {
     "name": "stdout",
     "output_type": "stream",
     "text": [
      " Hello! How can I assist you today? If you have any questions or need information on a particular topic, feel free to ask.\n"
     ]
    }
   ],
   "source": [
    "from openai import OpenAI\n",
    "\n",
    "client = OpenAI(api_key=\"sk-6cxxxxxxxxxxxxxxxxxxxxxxxxxxxx74\", base_url=\"https://api.deepseek.com\")\n",
    "\n",
    "response = client.chat.completions.create(\n",
    "    model=\"deepseek-chat\",\n",
    "    messages=[\n",
    "        {\"role\": \"system\", \"content\": \"You are a helpful assistant\"},\n",
    "        {\"role\": \"user\", \"content\": \"Hello\"},\n",
    "    ],\n",
    "    stream=False\n",
    ")\n",
    "\n",
    "print(response.choices[0].message.content)"
   ]
  },
  {
   "cell_type": "markdown",
   "metadata": {},
   "source": [
    "temperature 参数默认为 1.0。\n",
    "\n",
    "对于 deepseek-coder，我们建议您使用默认 temperature 值（1.0）。\n",
    "对于 deepseek-chat，我们建议您根据如下表格，按使用场景设置 temperature。\n",
    "\n",
    "场景\t温度\n",
    "\n",
    "代码生成/数学解题   \t0.0\n",
    "\n",
    "数据抽取/分析\t0.7\n",
    "\n",
    "通用对话\t1.0\n",
    "\n",
    "翻译\t1.1\n",
    "\n",
    "创意类写作/诗歌创作\t1.25"
   ]
  },
  {
   "cell_type": "code",
   "execution_count": null,
   "metadata": {},
   "outputs": [],
   "source": []
  }
 ],
 "metadata": {
  "kernelspec": {
   "display_name": "Python 3",
   "language": "python",
   "name": "python3"
  },
  "language_info": {
   "codemirror_mode": {
    "name": "ipython",
    "version": 3
   },
   "file_extension": ".py",
   "mimetype": "text/x-python",
   "name": "python",
   "nbconvert_exporter": "python",
   "pygments_lexer": "ipython3",
   "version": "3.10.13"
  }
 },
 "nbformat": 4,
 "nbformat_minor": 2
}
