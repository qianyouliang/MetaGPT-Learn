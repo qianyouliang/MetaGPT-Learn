{
 "cells": [
  {
   "cell_type": "markdown",
   "metadata": {},
   "source": [
    "#### 1.查看Python版本\n",
    "- 查看python版本，如果使用python3命令不行，这里可以使用python --version"
   ]
  },
  {
   "cell_type": "code",
   "execution_count": 1,
   "metadata": {},
   "outputs": [
    {
     "name": "stdout",
     "output_type": "stream",
     "text": [
      "Python 3.10.13\n"
     ]
    }
   ],
   "source": [
    "!python3 --version"
   ]
  },
  {
   "cell_type": "code",
   "execution_count": 2,
   "metadata": {},
   "outputs": [
    {
     "name": "stdout",
     "output_type": "stream",
     "text": [
      "Python 3.10.13\n"
     ]
    }
   ],
   "source": [
    "!python --version"
   ]
  },
  {
   "cell_type": "markdown",
   "metadata": {},
   "source": [
    "#### 2.安装MetaGPT\n",
    "\n",
    "- 使用pip获取MetaGPT\n",
    "metagpt可以直接用 pip 来获取至本地环境中，这样我们就可以在像使用任何python包一样导入MetaGPT\n",
    "通过在终端内运行下面的代码来获取稳定版metagpt\n",
    "官网镜像按照\n",
    "```\n",
    "pip install metagpt==0.6.6\n",
    "```\n",
    "国内环境可以通过清华源加速\n",
    "```\n",
    "pip install -i https://pypi.tuna.tsinghua.edu.cn/simple metagpt==0.6.6\n",
    "```\n",
    "拉取官方仓库进行按照\n",
    "```\n",
    "git clone https://github.com/geekan/MetaGPT.git\n",
    "cd /your/path/to/MetaGPT\n",
    "pip install -e .\n",
    "```\n",
    "\n",
    "更多内容可以了解官方文档：\n",
    "https://docs.deepwisdom.ai/\n"
   ]
  },
  {
   "cell_type": "code",
   "execution_count": 4,
   "metadata": {},
   "outputs": [
    {
     "name": "stdout",
     "output_type": "stream",
     "text": [
      "Found existing installation: metagpt 0.8.1\n",
      "Uninstalling metagpt-0.8.1:\n",
      "  Would remove:\n",
      "    /usr/local/python/3.10.13/bin/metagpt\n",
      "    /usr/local/python/3.10.13/lib/python3.10/site-packages/__editable__.metagpt-0.8.1.pth\n",
      "    /usr/local/python/3.10.13/lib/python3.10/site-packages/__editable___metagpt_0_8_1_finder.py\n",
      "    /usr/local/python/3.10.13/lib/python3.10/site-packages/metagpt-0.8.1.dist-info/*\n",
      "Proceed (Y/n)? ^C\n",
      "\u001b[31mERROR: Operation cancelled by user\u001b[0m\u001b[31m\n",
      "\u001b[0m"
     ]
    }
   ],
   "source": [
    "# 安装metaGPT\n",
    "# !pip install metagpt==0.6.6"
   ]
  },
  {
   "cell_type": "code",
   "execution_count": 1,
   "metadata": {},
   "outputs": [
    {
     "name": "stdout",
     "output_type": "stream",
     "text": [
      "Cloning into 'MetaGPT'...\n",
      "remote: Enumerating objects: 32141, done.\u001b[K\n",
      "remote: Total 32141 (delta 0), reused 0 (delta 0), pack-reused 32141\u001b[K\n",
      "Receiving objects: 100% (32141/32141), 92.46 MiB | 13.88 MiB/s, done.\n",
      "Resolving deltas: 100% (24080/24080), done.\n",
      "Obtaining file:///workspaces/MetaGPT-Learn\n",
      "\u001b[31mERROR: file:///workspaces/MetaGPT-Learn does not appear to be a Python project: neither 'setup.py' nor 'pyproject.toml' found.\u001b[0m\u001b[31m\n",
      "\u001b[0m"
     ]
    }
   ],
   "source": [
    "# 我这里由于使用的中转的API KEY，因此选择了第三种方法\n",
    "!git clone https://github.com/geekan/MetaGPT.git\n",
    "!cd MetaGPT\n",
    "!pip install -e .\n",
    "\n",
    "# 我们在config/config2.yaml中配置自己的api key和 base_url 以及选择的model"
   ]
  },
  {
   "cell_type": "markdown",
   "metadata": {},
   "source": [
    "#### 配置MetaGPT\n",
    "- 调用ChatGPT API服务(科学环境) https://platform.openai.com/docs/introduction/overview\n",
    "如果没有科学环境或者嫌麻烦，可以直接去tb买一个key，5美元的apiKey价格5-10元左右"
   ]
  },
  {
   "cell_type": "code",
   "execution_count": 1,
   "metadata": {},
   "outputs": [],
   "source": [
    "!export OPENAI_API_KEY=\"sxxxxxxxxxxxxxxxxxxxxxxxxxxp\"  # 填入你自己的OpenAI API key\n",
    "!export OPENAI_API_MODEL=\"gpt-3.5-turbo\" # 选择你要使用的模型，例如：gpt-4, gpt-3.5-turbo\n",
    "# !export OPENAI_API_BASE=\"https://api.openai-forward.com/v1\" # 如上配置后依然网络访问不通时，可以尝试再添加此行命令来配置中转代理服务"
   ]
  },
  {
   "cell_type": "markdown",
   "metadata": {},
   "source": [
    "- 如果你觉得直接通过命令行配置API不方便，也可以直接在代码中配置环境变量"
   ]
  },
  {
   "cell_type": "code",
   "execution_count": 1,
   "metadata": {},
   "outputs": [],
   "source": [
    "import os\n",
    "os.environ[\"OPENAI_API_KEY\"] = \"sk-Oxxxxxxxxxxxxxxxxxxxxxxxxxxxxxxa\"  # 填入你自己的OpenAI API key\n",
    "os.environ[\"OPENAI_API_MODEL\"] = \"gpt-3.5-turbo\" # 选择你要使用的模型，例如：gpt-4, gpt-3.5-turbo\n",
    "# os.environ[\"OPENAI_API_BASE\"] = \"https://api.openai-forward.com/v1\" # 调整API请求地址，设置访问中转代理服务器\n",
    "os.environ[\"OPENAI_API_BASE\"] = \"https://xxxxxxxxx/v1\" # 调整API请求地址，设置访问中转代理服务器"
   ]
  },
  {
   "cell_type": "code",
   "execution_count": 2,
   "metadata": {},
   "outputs": [
    {
     "name": "stdout",
     "output_type": "stream",
     "text": [
      "当WebGIS开发与人工智能(LLM Agent)结合时，可以创造出许多有趣和有用的应用场景。以下是一些国内外的例子：\n",
      "\n",
      "1. 地图数据智能化处理：结合AI技术，可以对大量的地图数据进行智能化处理，如自动识别地理信息、优化路径规划、实时更新地图信息等。这样可以提高地图数据的质量和实用性。\n",
      "\n",
      "2. 智能推荐系统：通过AI算法分析用户的地理位置、搜索历史和偏好，为用户提供个性化的地图推荐服务。比如，根据用户的兴趣推荐周边的景点、餐厅或商店。\n",
      "\n",
      "3. GIS数据分析与预测：利用AI技术处理大规模的地理信息数据，可以进行更精确的地理数据分析和预测。比如，预测城市交通拥堵情况、自然灾害风险等。\n",
      "\n",
      "4. 灾害应急响应：结合WebGIS和AI技术，可以实现对灾害情况的智能监测、分析和应急响应。比如，利用卫星图像和机器学习算法实现灾害风险评估，提前预警。\n",
      "\n",
      "5. 智能城市规划：AI技术可以辅助城市规划师进行智能化的城市规划。通过分析大数据和模拟算法，可以为城市规划提供更科学的决策支持。\n",
      "\n",
      "总的来说，将WebGIS开发与AI结合可以提升地理信息系统的智能化和数据处理能力，为用户提供更个性化、精准的地理信息服务。在未来，随着AI技术的不断发展，这些应用场景将会变得越来越普遍和成熟。\n"
     ]
    }
   ],
   "source": [
    "# 测试OpenAI的模型调用是否成功\n",
    "from openai import OpenAI\n",
    "client = OpenAI(base_url=\"https://xxxxxxx/v1\",\n",
    "    api_key='sk-Oxxxxxxxxxxxxxxxxxxxxxxxxxxxxxxxxxxxxx4a')\n",
    "\n",
    "completion = client.chat.completions.create(\n",
    "  model=\"gpt-3.5-turbo\",\n",
    "  messages=[\n",
    "    {\"role\": \"system\", \"content\": \"你是一个WebGIS开发者，测绘地理和全栈开发精通.\"},\n",
    "    {\"role\": \"user\", \"content\": \"聊聊国内外WebGIS开发与AI结合的场景现在我们可以聊聊国内外WebGIS开发与AI LLM Agent结合的场景吧\"}\n",
    "  ]\n",
    ")\n",
    "\n",
    "print(completion.choices[0].message.content)"
   ]
  },
  {
   "cell_type": "markdown",
   "metadata": {},
   "source": [
    "- 通过下面这个案例，我们用以验证环境配置是否成功，并初次体验多智能体框架中的指令 - 动作 - 角色 - 环境 - 团队的抽象概念。在这个示例中，我们创建了一个团队，其中包括产品经理、架构师、项目经理和工程师。然后，我们投资并运行一个项目，最后让团队运行五轮。"
   ]
  },
  {
   "cell_type": "code",
   "execution_count": 2,
   "metadata": {},
   "outputs": [
    {
     "name": "stderr",
     "output_type": "stream",
     "text": [
      "2024-05-12 17:36:37.952 | INFO     | metagpt.team:invest:93 - Investment: $3.0.\n",
      "2024-05-12 17:36:37.954 | INFO     | metagpt.roles.role:_act:396 - Alice(Product Manager): to do PrepareDocuments(PrepareDocuments)\n",
      "2024-05-12 17:36:37.988 | INFO     | metagpt.utils.file_repository:save:57 - save to: /workspaces/MetaGPT-Learn/MetaGPT/workspace/20240512173637/docs/requirement.txt\n",
      "2024-05-12 17:36:37.992 | INFO     | metagpt.roles.role:_act:396 - Alice(Product Manager): to do WritePRD(WritePRD)\n",
      "2024-05-12 17:36:37.994 | INFO     | metagpt.actions.write_prd:run:86 - New requirement detected: write a cli blackjack game\n"
     ]
    },
    {
     "name": "stdout",
     "output_type": "stream",
     "text": [
      "[CONTENT]\n",
      "{\n",
      "    \"Language\": \"en_us\",\n",
      "    \"Programming Language\": \"Python\",\n",
      "    \"Original Requirements\": \"write a cli blackjack game\",\n",
      "    \"Project Name\": \"cli_blackjack_game\",\n",
      "    \"Product Goals\": [\n",
      "        \"Create an engaging and interactive gameplay experience\",\n",
      "        \"Ensure smooth and intuitive user interface for seamless gameplay\",\n",
      "        \"Implement various difficulty levels to cater to different player skills\"\n",
      "    ],\n",
      "    \"User Stories\": [\n",
      "        \"As a player, I want to be able to start a new game easily\",\n",
      "        \"As a player, I want to see my current score and progress during the game\",\n",
      "        \"As a player, I want to have options to hit, stand, or double down during my turn\",\n",
      "        \"As a player, I want to receive clear instructions on how to play the game\",\n",
      "        \"As a player, I want to feel the excitement and challenge of a real blackjack game\"\n",
      "    ],\n",
      "    \"Competitive Analysis\": [\n",
      "        \"Blackjack Game A: Basic interface, lacks interactive features\",\n",
      "        \"Blackjack Pro: Offers advanced gameplay options and strategy guides\",\n",
      "        \"Blackjack Master: Provides a realistic casino experience with multiplayer mode\"\n",
      "    ],\n",
      "    \"Competitive Quadrant Chart\": \"quadrantChart\\n    title \\\"Engagement and User Experience\\\"\\n    x-axis \\\"Low Engagement\\\" --> \\\"High Engagement\\\"\\n    y-axis \\\"Low User Experience\\\" --> \\\"High User Experience\\\"\\n    quadrant-1 \\\"Enhance Features\\\"\\n    quadrant-2 \\\"Improve User Experience\\\"\\n    quadrant-3 \\\"Optimize Engagement\\\"\\n    quadrant-4 \\\"Maximize User Satisfaction\\\"\\n    \\\"Blackjack Game A\\\": [0.3, 0.4]\\n    \\\"Blackjack Pro\\\": [0.6, 0.7]\\n    \\\"Blackjack Master\\\": [0.8, 0.9]\\n    \\\"Our CLI Blackjack Game\\\": [0.5, 0.6]\",\n",
      "    \"Requirement Analysis\": \"\",\n",
      "    \"Requirement Pool\": [\n",
      "        [\n",
      "            \"P0\",\n",
      "            \"Implement basic game logic for blackjack\"\n",
      "        ],\n",
      "        [\n",
      "            \"P1\",\n",
      "            \"Create a scoring system to track player progress\"\n",
      "        ],\n",
      "        [\n",
      "            \"P2\",\n",
      "            \"Develop a user-friendly interface for easy navigation\"\n",
      "        ],\n",
      "        [\n",
      "            \"P2\",\n",
      "            \"Incorporate different difficulty levels for player choice\"\n",
      "        ],\n",
      "        [\n",
      "            \"P1\",\n",
      "            \"Include clear instructions on how to play the game\"\n",
      "        ]\n",
      "    ],\n",
      "    \"UI Design draft\": \"The UI will include options for hitting, standing, and doubling down. It will display the player's current score and provide clear instructions for gameplay.\",\n",
      "    \"Anything"
     ]
    },
    {
     "name": "stderr",
     "output_type": "stream",
     "text": [
      "2024-05-12 17:36:48.720 | ERROR    | metagpt.utils.common:log_it:554 - Finished call to 'metagpt.actions.action_node.ActionNode._aask_v1' after 10.724(s), this was the 1st time calling it. exp: openai.types.completion_usage.CompletionUsage() argument after ** must be a mapping, not NoneType\n"
     ]
    },
    {
     "name": "stdout",
     "output_type": "stream",
     "text": [
      " UNCLEAR\": \"\"\n",
      "}\n",
      "[/CONTENT][CONTENT]\n",
      "{\n",
      "    \"Language\": \"en_us\",\n",
      "    \"Programming Language\": \"Python\",\n",
      "    \"Original Requirements\": \"write a cli blackjack game\",\n",
      "    \"Project Name\": \"cli_blackjack_game\",\n",
      "    \"Product Goals\": [\n",
      "        \"Create an engaging CLI experience for users\",\n",
      "        \"Ensure smooth gameplay and fair card dealing logic\",\n",
      "        \"Provide an enjoyable and interactive blackjack game\"\n",
      "    ],\n",
      "    \"User Stories\": [\n",
      "        \"As a player, I want to be able to place bets and receive cards\",\n",
      "        \"As a player, I want to have options like hit, stand, double down\",\n",
      "        \"As a player, I want to see my current balance and game outcome\"\n",
      "    ],\n",
      "    \"Competitive Analysis\": [\n",
      "        \"Blackjack Game A: Basic CLI interface, lacks interactive features\",\n",
      "        \"cli-blackjack.io: Offers various betting options and clear game instructions\",\n",
      "        \"blackjack-cli.com: Provides realistic card dealing but lacks betting flexibility\"\n",
      "    ],\n",
      "    \"Competitive Quadrant Chart\": \"quadrantChart\\n    title \\\"Engagement and User Experience\\\"\\n    x-axis \\\"Low Engagement\\\" --> \\\"High Engagement\\\"\\n    y-axis \\\"Low User Experience\\\" --> \\\"High User Experience\\\"\\n    quadrant-1 \\\"Enhance Features\\\"\\n    quadrant-2 \\\"Improve User Experience\\\"\\n    quadrant-3 \\\"Optimize Engagement\\\"\\n    quadrant-4 \\\"Maintain Quality\\\"\\n    \\\"Blackjack Game A\\\": [0.3, 0.6]\\n    \\\"cli-blackjack.io\\\": [0.45, 0.23]\\n    \\\"blackjack-cli.com\\\": [0.57, 0.69]\\n    \\\"Our CLI Blackjack Game\\\": [0.5, 0.6]\",\n",
      "    \"Requirement Analysis\": \"\",\n",
      "    \"Requirement Pool\": [\n",
      "        [\n",
      "            \"P0\",\n",
      "            \"Implement card dealing and betting system\"\n",
      "        ],\n",
      "        [\n",
      "            \"P1\",\n",
      "            \"Include game logic for hit, stand, and double down actions\"\n",
      "        ],\n",
      "        [\n",
      "            \"P2\",\n",
      "            \"Display player balance and game outcomes\"\n",
      "        ]\n",
      "    ],\n",
      "    \"UI Design draft\": \"Simple text-based interface with clear instructions and game status"
     ]
    },
    {
     "name": "stderr",
     "output_type": "stream",
     "text": [
      "2024-05-12 17:36:57.136 | ERROR    | metagpt.utils.common:log_it:554 - Finished call to 'metagpt.actions.action_node.ActionNode._aask_v1' after 19.140(s), this was the 2nd time calling it. exp: openai.types.completion_usage.CompletionUsage() argument after ** must be a mapping, not NoneType\n"
     ]
    },
    {
     "name": "stdout",
     "output_type": "stream",
     "text": [
      " updates.\",\n",
      "    \"Anything UNCLEAR\": \"\"\n",
      "}\n",
      "[/CONTENT][CONTENT]\n",
      "{\n",
      "    \"Language\": \"en_us\",\n",
      "    \"Programming Language\": \"Python\",\n",
      "    \"Original Requirements\": \"write a cli blackjack game\",\n",
      "    \"Project Name\": \"cli_blackjack_game\",\n",
      "    \"Product Goals\": [\n",
      "        \"Create an engaging and interactive gameplay experience\",\n",
      "        \"Ensure smooth and intuitive user interface for seamless gameplay\",\n",
      "        \"Implement various difficulty levels to cater to different player skills\"\n",
      "    ],\n",
      "    \"User Stories\": [\n",
      "        \"As a player, I want to be able to place bets and play against the dealer\",\n",
      "        \"As a player, I want to see my current score and balance during the game\",\n",
      "        \"As a player, I want to have the option to hit, stand, or double down during my turn\",\n",
      "        \"As a player, I want to be able to start a new game or quit at any point\",\n",
      "        \"As a player, I want to experience the thrill of blackjack through a command-line interface\"\n",
      "    ],\n",
      "    \"Competitive Analysis\": [\n",
      "        \"CLI Blackjack A: Offers basic gameplay with limited features\",\n",
      "        \"BlackjackConsole.com: Provides a comprehensive CLI blackjack experience with detailed game statistics\",\n",
      "        \"Terminal21: Focuses on simplicity and quick gameplay sessions\"\n",
      "    ],\n",
      "    \"Competitive Quadrant Chart\": \"\",\n",
      "    \"Requirement Analysis\": \"\",\n",
      "    \"Requirement Pool\": [\n",
      "        [\n",
      "            \"P0\",\n",
      "            \"Implement core blackjack game logic including card dealing, scoring, and win/loss conditions\"\n",
      "        ],\n",
      "        [\n",
      "            \"P1\",\n",
      "            \"Incorporate betting system with balance management and payout calculations\"\n",
      "        ],\n",
      "        [\n",
      "            \"P2\",\n",
      "            \"Add interactive player options like hit, stand, and double down for engaging gameplay\"\n",
      "        ]\n",
      "    ],\n",
      "    \"UI Design draft\": \"Utilize text-based interface with clear instructions and game status updates for a user-friendly experience"
     ]
    },
    {
     "name": "stderr",
     "output_type": "stream",
     "text": [
      "2024-05-12 17:37:08.165 | ERROR    | metagpt.utils.common:log_it:554 - Finished call to 'metagpt.actions.action_node.ActionNode._aask_v1' after 30.169(s), this was the 3rd time calling it. exp: openai.types.completion_usage.CompletionUsage() argument after ** must be a mapping, not NoneType\n"
     ]
    },
    {
     "name": "stdout",
     "output_type": "stream",
     "text": [
      ".\",\n",
      "    \"Anything UNCLEAR\": \"\"\n",
      "}\n",
      "[/CONTENT][CONTENT]\n",
      "{\n",
      "    \"Language\": \"en_us\",\n",
      "    \"Programming Language\": \"Python\",\n",
      "    \"Original Requirements\": \"write a cli blackjack game\",\n",
      "    \"Project Name\": \"cli_blackjack_game\",\n",
      "    \"Product Goals\": [\n",
      "        \"Create an engaging and interactive gameplay experience\",\n",
      "        \"Ensure smooth and intuitive user interface for seamless gameplay\",\n",
      "        \"Implement various difficulty levels to cater to different player skills\"\n",
      "    ],\n",
      "    \"User Stories\": [\n",
      "        \"As a player, I want to be able to place bets and play blackjack against the computer\",\n",
      "        \"As a player, I want to see my current balance and winnings displayed during the game\",\n",
      "        \"As a player, I want to have the option to quit or restart the game at any point\",\n",
      "        \"As a player, I want to experience the thrill of playing blackjack through a command-line interface\",\n",
      "        \"As a player, I want to easily understand the game rules and options available\"\n",
      "    ],\n",
      "    \"Competitive Analysis\": [\n",
      "        \"CLI Blackjack A: Basic gameplay with limited features\",\n",
      "        \"BlackjackConsole.com: Offers various customization options and detailed game statistics\",\n",
      "        \"TerminalBlackjack.io: Simple interface with quick gameplay\"\n",
      "    ],\n",
      "    \"Competitive Quadrant Chart\": \"\",\n",
      "    \"Requirement Analysis\": \"\",\n",
      "    \"Requirement Pool\": [\n",
      "        [\n",
      "            \"P0\",\n",
      "            \"Implement core blackjack game logic and rules\"\n",
      "        ],\n",
      "        [\n",
      "            \"P1\",\n",
      "            \"Create betting system and balance management\"\n",
      "        ],\n",
      "        [\n",
      "            \"P1\",\n",
      "            \"Develop game restart and quit functionality\"\n",
      "        ],\n",
      "        [\n",
      "            \"P2\",\n",
      "            \"Enhance user interface for better user experience\"\n",
      "        ],\n",
      "        [\n",
      "            \"P2\",\n",
      "            \"Add difficulty levels for player customization\"\n",
      "        ]\n",
      "    ],\n",
      "    \"UI Design draft\": \"The UI should display player balance, current hand, available actions (hit, stand, double down), and game messages in a clear and concise manner. Use ASCII art for card representation.\",\n",
      "    \""
     ]
    },
    {
     "name": "stderr",
     "output_type": "stream",
     "text": [
      "2024-05-12 17:37:17.396 | ERROR    | metagpt.utils.common:log_it:554 - Finished call to 'metagpt.actions.action_node.ActionNode._aask_v1' after 39.399(s), this was the 4th time calling it. exp: openai.types.completion_usage.CompletionUsage() argument after ** must be a mapping, not NoneType\n"
     ]
    },
    {
     "name": "stdout",
     "output_type": "stream",
     "text": [
      "Anything UNCLEAR\": \"\"\n",
      "}\n",
      "[/CONTENT][CONTENT]\n",
      "{\n",
      "    \"Language\": \"en_us\",\n",
      "    \"Programming Language\": \"Python\",\n",
      "    \"Original Requirements\": \"write a cli blackjack game\",\n",
      "    \"Project Name\": \"cli_blackjack_game\",\n",
      "    \"Product Goals\": [\n",
      "        \"Create an engaging and interactive gameplay experience\",\n",
      "        \"Ensure smooth and intuitive user interface for seamless gameplay\",\n",
      "        \"Implement various difficulty levels to cater to different player skills\"\n",
      "    ],\n",
      "    \"User Stories\": [\n",
      "        \"As a player, I want to be able to place bets and play blackjack against the computer\",\n",
      "        \"As a player, I want to see my current balance and track my wins and losses\",\n",
      "        \"As a player, I want to have the option to quit or restart the game at any point\",\n",
      "        \"As a player, I want to experience a realistic blackjack gameplay with clear instructions\",\n",
      "        \"As a player, I want to enjoy the game on both desktop and mobile devices\"\n",
      "    ],\n",
      "    \"Competitive Analysis\": [\n",
      "        \"Blackjack Game A: Basic interface, lacks interactive features\",\n",
      "        \"playblackjack.com: Offers multiplayer mode and detailed statistics\",\n",
      "        \"blackjackonline.net: Provides a wide range of customization options for players\"\n",
      "    ],\n",
      "    \"Competitive Quadrant Chart\": \"quadrantChart\\n    title \\\"Engagement and User Experience\\\"\\n    x-axis \\\"Low Engagement\\\" --> \\\"High Engagement\\\"\\n    y-axis \\\"Low User Experience\\\" --> \\\"High User Experience\\\"\\n    quadrant-1 \\\"Enhance Features\\\"\\n    quadrant-2 \\\"Improve User Experience\\\"\\n    quadrant-3 \\\"Optimize Engagement\\\"\\n    quadrant-4 \\\"Maintain Quality\\\"\\n    \\\"Blackjack Game A\\\": [0.2, 0.4]\\n    \\\"playblackjack.com\\\": [0.6, 0.7]\\n    \\\"blackjackonline.net\\\": [0.5, 0.6]\\n    \\\"cli_blackjack_game\\\": [0.7, 0.8]\",\n",
      "    \"Requirement Analysis\": \"\",\n",
      "    \"Requirement Pool\": [\n",
      "        [\n",
      "            \"P0\",\n",
      "            \"Implement basic blackjack game logic and rules\"\n",
      "        ],\n",
      "        [\n",
      "            \"P1\",\n",
      "            \"Incorporate betting system and balance management\"\n",
      "        ],\n",
      "        [\n",
      "            \"P1\",\n",
      "            \"Develop interactive user interface for smooth gameplay\"\n",
      "        ],\n",
      "        [\n",
      "            \"P2\",\n",
      "            \"Add option for players to adjust difficulty levels\"\n",
      "        ],\n",
      "        [\n",
      "            \"P2\",\n",
      "            \"Include clear instructions and game guidance\"\n",
      "        ]\n",
      "    ],\n",
      "    \"UI Design draft\": \"The UI should include a visual representation of cards, buttons for player actions like hit, stand, bet, and clear. Display player balance, current hand value, and game outcome clearly.\",\n",
      "    \""
     ]
    },
    {
     "name": "stderr",
     "output_type": "stream",
     "text": [
      "2024-05-12 17:37:31.587 | ERROR    | metagpt.utils.common:log_it:554 - Finished call to 'metagpt.actions.action_node.ActionNode._aask_v1' after 53.591(s), this was the 5th time calling it. exp: openai.types.completion_usage.CompletionUsage() argument after ** must be a mapping, not NoneType\n"
     ]
    },
    {
     "name": "stdout",
     "output_type": "stream",
     "text": [
      "Anything UNCLEAR\": \"\"\n",
      "}\n",
      "[/CONTENT][CONTENT]\n",
      "{\n",
      "    \"Language\": \"en_us\",\n",
      "    \"Programming Language\": \"Python\",\n",
      "    \"Original Requirements\": \"write a cli blackjack game\",\n",
      "    \"Project Name\": \"cli_blackjack_game\",\n",
      "    \"Product Goals\": [\n",
      "        \"Create an engaging and interactive gameplay experience\",\n",
      "        \"Ensure smooth and intuitive user interface for seamless gameplay\",\n",
      "        \"Implement various difficulty levels to cater to different player skills\"\n",
      "    ],\n",
      "    \"User Stories\": [\n",
      "        \"As a player, I want to be able to place bets and play blackjack against the computer\",\n",
      "        \"As a player, I want to see my current balance and winnings displayed during the game\",\n",
      "        \"As a player, I want to have the option to quit or restart the game at any point\",\n",
      "        \"As a player, I want to experience a realistic blackjack gameplay with clear instructions\",\n",
      "        \"As a player, I want to enjoy the game on both desktop and mobile devices\"\n",
      "    ],\n",
      "    \"Competitive Analysis\": [\n",
      "        \"Blackjack Game A: Basic interface, lacks interactive features\",\n",
      "        \"playblackjack.com: Offers a variety of blackjack games with detailed statistics\",\n",
      "        \"blackjackonline.net: Provides a realistic blackjack experience with multiplayer options\"\n",
      "    ],\n",
      "    \"Competitive Quadrant Chart\": \"quadrantChart\\n    title \\\"Engagement and User Experience of Blackjack Games\\\"\\n    x-axis \\\"Low Engagement\\\" --> \\\"High Engagement\\\"\\n    y-axis \\\"Low User Experience\\\" --> \\\"High User Experience\\\"\\n    quadrant-1 \\\"Enhance Features\\\"\\n    quadrant-2 \\\"Improve User Experience\\\"\\n    quadrant-3 \\\"Optimize Engagement\\\"\\n    quadrant-4 \\\"Maintain Quality\\\"\\n    \\\"Blackjack Game A\\\": [0.3, 0.4]\\n    \\\"playblackjack.com\\\": [0.6, 0.7]\\n    \\\"blackjackonline.net\\\": [0.8, 0.6]\\n    \\\"cli_blackjack_game\\\": [0.7, 0.8]\",\n",
      "    \"Requirement Analysis\": \"\",\n",
      "    \"Requirement Pool\": [\n",
      "        [\n",
      "            \"P0\",\n",
      "            \"Implement the core blackjack game logic and rules\"\n",
      "        ],\n",
      "        [\n",
      "            \"P1\",\n",
      "            \"Integrate a betting system and balance management\"\n",
      "        ],\n",
      "        [\n",
      "            \"P1\",\n",
      "            \"Develop a user-friendly CLI interface for smooth gameplay\"\n",
      "        ],\n",
      "        [\n",
      "            \"P2\",\n",
      "            \"Include options for game restart and quitting\"\n",
      "        ],\n",
      "        [\n",
      "            \"P2\",\n",
      "            \"Ensure cross-platform compatibility for desktop and mobile devices\"\n",
      "        ]\n",
      "    ],\n",
      "    \"UI Design draft\": \"The CLI interface should display clear game instructions, current balance, and game status. Use intuitive commands for player interaction.\",\n",
      "    \""
     ]
    },
    {
     "name": "stderr",
     "output_type": "stream",
     "text": [
      "2024-05-12 17:37:55.354 | ERROR    | metagpt.utils.common:log_it:554 - Finished call to 'metagpt.actions.action_node.ActionNode._aask_v1' after 77.358(s), this was the 6th time calling it. exp: openai.types.completion_usage.CompletionUsage() argument after ** must be a mapping, not NoneType\n",
      "2024-05-12 17:37:55.356 | WARNING  | metagpt.utils.common:wrapper:649 - There is a exception in role's execution, in order to resume, we delete the newest role communication message in the role's memory.\n",
      "2024-05-12 17:37:55.358 | ERROR    | metagpt.utils.common:wrapper:631 - Exception occurs, start to serialize the project, exp:\n",
      "Traceback (most recent call last):\n",
      "  File \"/home/codespace/.python/current/lib/python3.10/site-packages/tenacity/_asyncio.py\", line 50, in __call__\n",
      "    result = await fn(*args, **kwargs)\n",
      "  File \"/workspaces/MetaGPT-Learn/MetaGPT/metagpt/actions/action_node.py\", line 420, in _aask_v1\n",
      "    content = await self.llm.aask(prompt, system_msgs, images=images, timeout=timeout)\n",
      "TypeError: openai.types.completion_usage.CompletionUsage() argument after ** must be a mapping, not NoneType\n",
      "\n",
      "The above exception was the direct cause of the following exception:\n",
      "\n",
      "Traceback (most recent call last):\n",
      "  File \"/workspaces/MetaGPT-Learn/MetaGPT/metagpt/utils/common.py\", line 640, in wrapper\n",
      "    return await func(self, *args, **kwargs)\n",
      "  File \"/workspaces/MetaGPT-Learn/MetaGPT/metagpt/roles/role.py\", line 555, in run\n",
      "    rsp = await self.react()\n",
      "tenacity.RetryError: RetryError[<Future at 0x76ed02515960 state=finished raised TypeError>]\n",
      "\n",
      "During handling of the above exception, another exception occurred:\n",
      "\n",
      "Traceback (most recent call last):\n",
      "  File \"/workspaces/MetaGPT-Learn/MetaGPT/metagpt/utils/common.py\", line 626, in wrapper\n",
      "    result = await func(self, *args, **kwargs)\n",
      "  File \"/workspaces/MetaGPT-Learn/MetaGPT/metagpt/team.py\", line 131, in run\n",
      "    await self.env.run()\n",
      "Exception: Traceback (most recent call last):\n",
      "  File \"/home/codespace/.python/current/lib/python3.10/site-packages/tenacity/_asyncio.py\", line 50, in __call__\n",
      "    result = await fn(*args, **kwargs)\n",
      "  File \"/workspaces/MetaGPT-Learn/MetaGPT/metagpt/actions/action_node.py\", line 420, in _aask_v1\n",
      "    content = await self.llm.aask(prompt, system_msgs, images=images, timeout=timeout)\n",
      "  File \"/workspaces/MetaGPT-Learn/MetaGPT/metagpt/provider/base_llm.py\", line 150, in aask\n",
      "    rsp = await self.acompletion_text(message, stream=stream, timeout=self.get_timeout(timeout))\n",
      "  File \"/home/codespace/.python/current/lib/python3.10/site-packages/tenacity/_asyncio.py\", line 88, in async_wrapped\n",
      "    return await fn(*args, **kwargs)\n",
      "  File \"/home/codespace/.python/current/lib/python3.10/site-packages/tenacity/_asyncio.py\", line 47, in __call__\n",
      "    do = self.iter(retry_state=retry_state)\n",
      "  File \"/home/codespace/.python/current/lib/python3.10/site-packages/tenacity/__init__.py\", line 314, in iter\n",
      "    return fut.result()\n",
      "  File \"/home/codespace/.python/current/lib/python3.10/concurrent/futures/_base.py\", line 451, in result\n",
      "    return self.__get_result()\n",
      "  File \"/home/codespace/.python/current/lib/python3.10/concurrent/futures/_base.py\", line 403, in __get_result\n",
      "    raise self._exception\n",
      "  File \"/home/codespace/.python/current/lib/python3.10/site-packages/tenacity/_asyncio.py\", line 50, in __call__\n",
      "    result = await fn(*args, **kwargs)\n",
      "  File \"/workspaces/MetaGPT-Learn/MetaGPT/metagpt/provider/openai_api.py\", line 155, in acompletion_text\n",
      "    return await self._achat_completion_stream(messages, timeout=timeout)\n",
      "  File \"/workspaces/MetaGPT-Learn/MetaGPT/metagpt/provider/openai_api.py\", line 105, in _achat_completion_stream\n",
      "    usage = CompletionUsage(**chunk.usage)\n",
      "TypeError: openai.types.completion_usage.CompletionUsage() argument after ** must be a mapping, not NoneType\n",
      "\n",
      "The above exception was the direct cause of the following exception:\n",
      "\n",
      "Traceback (most recent call last):\n",
      "  File \"/workspaces/MetaGPT-Learn/MetaGPT/metagpt/utils/common.py\", line 640, in wrapper\n",
      "    return await func(self, *args, **kwargs)\n",
      "  File \"/workspaces/MetaGPT-Learn/MetaGPT/metagpt/roles/role.py\", line 555, in run\n",
      "    rsp = await self.react()\n",
      "  File \"/workspaces/MetaGPT-Learn/MetaGPT/metagpt/roles/role.py\", line 522, in react\n",
      "    rsp = await self._react()\n",
      "  File \"/workspaces/MetaGPT-Learn/MetaGPT/metagpt/roles/role.py\", line 468, in _react\n",
      "    rsp = await self._act()\n",
      "  File \"/workspaces/MetaGPT-Learn/MetaGPT/metagpt/roles/role.py\", line 397, in _act\n",
      "    response = await self.rc.todo.run(self.rc.history)\n",
      "  File \"/workspaces/MetaGPT-Learn/MetaGPT/metagpt/actions/write_prd.py\", line 87, in run\n",
      "    return await self._handle_new_requirement(req)\n",
      "  File \"/workspaces/MetaGPT-Learn/MetaGPT/metagpt/actions/write_prd.py\", line 108, in _handle_new_requirement\n",
      "    node = await WRITE_PRD_NODE.fill(context=context, llm=self.llm, exclude=exclude)  # schema=schema\n",
      "  File \"/workspaces/MetaGPT-Learn/MetaGPT/metagpt/actions/action_node.py\", line 504, in fill\n",
      "    return await self.simple_fill(schema=schema, mode=mode, images=images, timeout=timeout, exclude=exclude)\n",
      "  File \"/workspaces/MetaGPT-Learn/MetaGPT/metagpt/actions/action_node.py\", line 456, in simple_fill\n",
      "    content, scontent = await self._aask_v1(\n",
      "  File \"/home/codespace/.python/current/lib/python3.10/site-packages/tenacity/_asyncio.py\", line 88, in async_wrapped\n",
      "    return await fn(*args, **kwargs)\n",
      "  File \"/home/codespace/.python/current/lib/python3.10/site-packages/tenacity/_asyncio.py\", line 47, in __call__\n",
      "    do = self.iter(retry_state=retry_state)\n",
      "  File \"/home/codespace/.python/current/lib/python3.10/site-packages/tenacity/__init__.py\", line 326, in iter\n",
      "    raise retry_exc from fut.exception()\n",
      "tenacity.RetryError: RetryError[<Future at 0x76ed02515960 state=finished raised TypeError>]\n",
      "\n",
      "\n"
     ]
    },
    {
     "name": "stdout",
     "output_type": "stream",
     "text": [
      "Anything UNCLEAR\": \"\"\n",
      "}\n",
      "[/CONTENT]"
     ]
    }
   ],
   "source": [
    "import asyncio\n",
    "from metagpt.roles import (\n",
    "    Architect,\n",
    "    Engineer,\n",
    "    ProductManager,\n",
    "    ProjectManager,\n",
    ")\n",
    "from metagpt.team import Team\n",
    "\n",
    "async def startup(idea: str):\n",
    "    company = Team()\n",
    "    company.hire(\n",
    "        [\n",
    "            ProductManager(),\n",
    "            Architect(),\n",
    "            ProjectManager(),\n",
    "            Engineer(),\n",
    "        ]\n",
    "    )\n",
    "    company.invest(investment=3.0)\n",
    "    company.run_project(idea=idea)\n",
    "\n",
    "    await company.run(n_round=5)\n",
    "    \n",
    "await startup(idea=\"write a cli blackjack game\")"
   ]
  }
 ],
 "metadata": {
  "kernelspec": {
   "display_name": "Python 3",
   "language": "python",
   "name": "python3"
  },
  "language_info": {
   "codemirror_mode": {
    "name": "ipython",
    "version": 3
   },
   "file_extension": ".py",
   "mimetype": "text/x-python",
   "name": "python",
   "nbconvert_exporter": "python",
   "pygments_lexer": "ipython3",
   "version": "3.10.13"
  }
 },
 "nbformat": 4,
 "nbformat_minor": 2
}
